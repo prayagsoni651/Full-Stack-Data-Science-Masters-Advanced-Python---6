{
 "cells": [
  {
   "cell_type": "code",
   "execution_count": 1,
   "metadata": {},
   "outputs": [
    {
     "data": {
      "text/plain": [
       "'Exception processing is a fundamental aspect of error handling in programming languages like Python. Here are three common applications for exception processing:\\n\\nError Detection and Recovery:\\n\\nException processing is used to detect and handle errors that occur during program execution. By using try-except blocks, developers can anticipate potential errors and define appropriate recovery actions to gracefully handle exceptional conditions.\\nFor example, when reading data from a file, if an unexpected error occurs (e.g., file not found, permission denied), the program can catch the exception, log the error, and prompt the user to provide a different file path or take alternative actions.\\nInput Validation:\\n\\nException processing is used for input validation to ensure that user input meets specified criteria or constraints. By catching exceptions raised during input processing, developers can provide feedback to users about invalid input and prompt them to enter valid data.\\nFor example, when prompting the user to enter a numeric value, if the user enters a non-numeric string, the program can catch the ValueError exception and prompt the user to enter a valid numeric value.\\nResource Management:\\n\\nException processing is used for resource management to ensure proper cleanup and release of resources, such as file handles, network connections, and database connections, in case of exceptions or errors.\\nBy using try-finally or try-except-finally blocks, developers can guarantee that resources are properly released, even if exceptions occur during resource usage.\\nFor example, when opening a file for reading or writing, the program can use a try-finally block to ensure that the file is closed properly, regardless of whether an exception occurs during file operations.'"
      ]
     },
     "execution_count": 1,
     "metadata": {},
     "output_type": "execute_result"
    }
   ],
   "source": [
    "# Q1. Describe three applications for exception processing.\n",
    "\n",
    "'''Exception processing is a fundamental aspect of error handling in programming languages like Python. Here are three common applications for exception processing:\n",
    "\n",
    "Error Detection and Recovery:\n",
    "\n",
    "Exception processing is used to detect and handle errors that occur during program execution. By using try-except blocks, developers can anticipate potential errors and define appropriate recovery actions to gracefully handle exceptional conditions.\n",
    "For example, when reading data from a file, if an unexpected error occurs (e.g., file not found, permission denied), the program can catch the exception, log the error, and prompt the user to provide a different file path or take alternative actions.\n",
    "Input Validation:\n",
    "\n",
    "Exception processing is used for input validation to ensure that user input meets specified criteria or constraints. By catching exceptions raised during input processing, developers can provide feedback to users about invalid input and prompt them to enter valid data.\n",
    "For example, when prompting the user to enter a numeric value, if the user enters a non-numeric string, the program can catch the ValueError exception and prompt the user to enter a valid numeric value.\n",
    "Resource Management:\n",
    "\n",
    "Exception processing is used for resource management to ensure proper cleanup and release of resources, such as file handles, network connections, and database connections, in case of exceptions or errors.\n",
    "By using try-finally or try-except-finally blocks, developers can guarantee that resources are properly released, even if exceptions occur during resource usage.\n",
    "For example, when opening a file for reading or writing, the program can use a try-finally block to ensure that the file is closed properly, regardless of whether an exception occurs during file operations.'''\n",
    "\n"
   ]
  },
  {
   "cell_type": "code",
   "execution_count": 2,
   "metadata": {},
   "outputs": [
    {
     "data": {
      "text/plain": [
       "\"\\nIf you don't handle an exception in your code, it will result in the propagation of the exception through the call stack until it is caught by an appropriate exception handler or until it reaches the top-level of the program, at which point it will typically terminate the program and display an error message.\\n\\nHere's what happens if you don't handle an exception:\\n\\nPropagation: When an exception occurs in a block of code (e.g., within a try block), the Python interpreter looks for an exception handler that can handle the exception.\\n\\nSearch for Exception Handler: If there is no appropriate exception handler within the current scope, the exception propagates up the call stack to higher levels of the program, looking for a matching except block that can handle the exception.\\n\\nTermination: If the exception propagates to the top-level of the program (e.g., if there are no except blocks to handle the exception), the program will terminate abruptly, and Python will display the exception traceback, including information about the type of exception, the line of code where it occurred, and the call stack leading up to the exception.\\n\\nError Message: When the program terminates due to an unhandled exception, Python displays an error message containing information about the exception, which can help developers diagnose and debug the issue.\\n\\n\""
      ]
     },
     "execution_count": 2,
     "metadata": {},
     "output_type": "execute_result"
    }
   ],
   "source": [
    "# Q2. What happens if you don't do something extra to treat an exception?\n",
    "\n",
    "\n",
    "'''\n",
    "If you don't handle an exception in your code, it will result in the propagation of the exception through the call stack until it is caught by an appropriate exception handler or until it reaches the top-level of the program, at which point it will typically terminate the program and display an error message.\n",
    "\n",
    "Here's what happens if you don't handle an exception:\n",
    "\n",
    "Propagation: When an exception occurs in a block of code (e.g., within a try block), the Python interpreter looks for an exception handler that can handle the exception.\n",
    "\n",
    "Search for Exception Handler: If there is no appropriate exception handler within the current scope, the exception propagates up the call stack to higher levels of the program, looking for a matching except block that can handle the exception.\n",
    "\n",
    "Termination: If the exception propagates to the top-level of the program (e.g., if there are no except blocks to handle the exception), the program will terminate abruptly, and Python will display the exception traceback, including information about the type of exception, the line of code where it occurred, and the call stack leading up to the exception.\n",
    "\n",
    "Error Message: When the program terminates due to an unhandled exception, Python displays an error message containing information about the exception, which can help developers diagnose and debug the issue.\n",
    "\n",
    "'''\n"
   ]
  },
  {
   "cell_type": "code",
   "execution_count": 3,
   "metadata": {},
   "outputs": [
    {
     "data": {
      "text/plain": [
       "\"\\nWhen recovering from an exception in a Python script, you have several options to handle the exception and resume normal program execution:\\n\\nTry-Except Blocks:\\n\\nUse a try-except block to catch and handle specific exceptions that may occur within a block of code. You can specify different except blocks for different types of exceptions or use a single except block to catch all exceptions.\\nException Handling Logic:\\n\\nImplement exception handling logic within the except block to recover from the exception. Depending on the nature of the exception, you can perform tasks such as logging the error, displaying a user-friendly error message, retrying the operation, or taking alternative actions to handle the exceptional condition.\\nError Reporting and Logging:\\n\\nLog the details of the exception, including the type of exception, the error message, and any relevant contextual information, to a log file or console. Logging exceptions helps diagnose and debug issues in the code and provides valuable information for troubleshooting.\\nGraceful Degradation:\\n\\nImplement graceful degradation by providing fallback mechanisms or alternative paths of execution to maintain the program's functionality in the presence of exceptions. For example, if an operation fails due to an exception, you can provide default values or alternative methods to accomplish the task.\\nRetrying Operations:\\n\\nRetry the operation that raised the exception, either immediately or after a brief delay, to give the system time to recover from transient errors. You can implement retry logic using loops or recursion and set a maximum number of retry attempts to prevent infinite loops.\\nCleanup and Resource Release:\\n\\nEnsure proper cleanup and release of resources, such as file handles, network connections, or database connections, in the event of an exception. Use try-finally or context managers (with statement) to guarantee resource cleanup, even if an exception occurs.\\nHandling Multiple Exceptions:\\n\\nHandle multiple exceptions using multiple except blocks or a single except block with multiple exception types specified. You can also use the except Exception as e syntax to catch and handle all exceptions and inspect the exception object (e) to determine the type of exception and take appropriate actions.\\n\""
      ]
     },
     "execution_count": 3,
     "metadata": {},
     "output_type": "execute_result"
    }
   ],
   "source": [
    "# Q3. What are your options for recovering from an exception in your script?\n",
    "\n",
    "'''\n",
    "When recovering from an exception in a Python script, you have several options to handle the exception and resume normal program execution:\n",
    "\n",
    "Try-Except Blocks:\n",
    "\n",
    "Use a try-except block to catch and handle specific exceptions that may occur within a block of code. You can specify different except blocks for different types of exceptions or use a single except block to catch all exceptions.\n",
    "Exception Handling Logic:\n",
    "\n",
    "Implement exception handling logic within the except block to recover from the exception. Depending on the nature of the exception, you can perform tasks such as logging the error, displaying a user-friendly error message, retrying the operation, or taking alternative actions to handle the exceptional condition.\n",
    "Error Reporting and Logging:\n",
    "\n",
    "Log the details of the exception, including the type of exception, the error message, and any relevant contextual information, to a log file or console. Logging exceptions helps diagnose and debug issues in the code and provides valuable information for troubleshooting.\n",
    "Graceful Degradation:\n",
    "\n",
    "Implement graceful degradation by providing fallback mechanisms or alternative paths of execution to maintain the program's functionality in the presence of exceptions. For example, if an operation fails due to an exception, you can provide default values or alternative methods to accomplish the task.\n",
    "Retrying Operations:\n",
    "\n",
    "Retry the operation that raised the exception, either immediately or after a brief delay, to give the system time to recover from transient errors. You can implement retry logic using loops or recursion and set a maximum number of retry attempts to prevent infinite loops.\n",
    "Cleanup and Resource Release:\n",
    "\n",
    "Ensure proper cleanup and release of resources, such as file handles, network connections, or database connections, in the event of an exception. Use try-finally or context managers (with statement) to guarantee resource cleanup, even if an exception occurs.\n",
    "Handling Multiple Exceptions:\n",
    "\n",
    "Handle multiple exceptions using multiple except blocks or a single except block with multiple exception types specified. You can also use the except Exception as e syntax to catch and handle all exceptions and inspect the exception object (e) to determine the type of exception and take appropriate actions.\n",
    "'''"
   ]
  },
  {
   "cell_type": "code",
   "execution_count": 4,
   "metadata": {},
   "outputs": [
    {
     "data": {
      "text/plain": [
       "'In Python, you can trigger exceptions intentionally using various methods to handle exceptional conditions in your script. Here are two common methods for triggering exceptions:\\n\\nRaise Statement:\\n\\nYou can use the raise statement to explicitly raise exceptions at specific points in your code. The raise statement allows you to raise built-in exceptions or custom exceptions defined by subclassing the Exception class.\\n\\n\\n# Example 1: Raising a built-in exception\\nraise ValueError(\"Invalid input value\")\\n\\n# Example 2: Raising a custom exception\\nclass CustomError(Exception):\\n    pass\\n\\nraise CustomError(\"Custom error message\")\\nIn the above examples, the raise statement is used to raise a ValueError exception with a custom error message and a custom CustomError exception with a specified error message.\\n\\nAssertion Error:\\n\\nYou can use the assert statement to raise an AssertionError exception if a specified condition evaluates to False. This is often used to validate assumptions and check for conditions that should always be true.\\n\\n\\n# Example: Triggering an assertion error\\nx = 10\\nassert x < 0, \"x should be negative\"  # Raises AssertionError if condition is False'"
      ]
     },
     "execution_count": 4,
     "metadata": {},
     "output_type": "execute_result"
    }
   ],
   "source": [
    "# Q4. Describe two methods for triggering exceptions in your script.\n",
    "\n",
    "'''In Python, you can trigger exceptions intentionally using various methods to handle exceptional conditions in your script. Here are two common methods for triggering exceptions:\n",
    "\n",
    "Raise Statement:\n",
    "\n",
    "You can use the raise statement to explicitly raise exceptions at specific points in your code. The raise statement allows you to raise built-in exceptions or custom exceptions defined by subclassing the Exception class.\n",
    "\n",
    "\n",
    "# Example 1: Raising a built-in exception\n",
    "raise ValueError(\"Invalid input value\")\n",
    "\n",
    "# Example 2: Raising a custom exception\n",
    "class CustomError(Exception):\n",
    "    pass\n",
    "\n",
    "raise CustomError(\"Custom error message\")\n",
    "In the above examples, the raise statement is used to raise a ValueError exception with a custom error message and a custom CustomError exception with a specified error message.\n",
    "\n",
    "Assertion Error:\n",
    "\n",
    "You can use the assert statement to raise an AssertionError exception if a specified condition evaluates to False. This is often used to validate assumptions and check for conditions that should always be true.\n",
    "\n",
    "\n",
    "# Example: Triggering an assertion error\n",
    "x = 10\n",
    "assert x < 0, \"x should be negative\"  # Raises AssertionError if condition is False'''"
   ]
  },
  {
   "cell_type": "code",
   "execution_count": 5,
   "metadata": {},
   "outputs": [
    {
     "data": {
      "text/plain": [
       "'In Python, you can specify actions to be executed at termination time, regardless of whether or not an exception exists, using the following methods:\\n\\ntry-finally Blocks:\\n\\nUse a try-finally block to ensure that certain cleanup or finalization actions are executed regardless of whether an exception occurs within the try block. Code within the finally block is guaranteed to be executed before the block is exited, even if an exception occurs.\\n\\n\\n\\ntry:\\n    # Code that may raise exceptions\\n    ...\\nfinally:\\n    # Cleanup or finalization actions\\n    ...\\nIn the example above, the code within the finally block will be executed regardless of whether an exception occurs within the try block. This is useful for releasing resources, closing files, or performing cleanup tasks.\\n\\natexit Module:\\n\\nUse the atexit module to register functions that should be called when the Python interpreter exits. These functions are executed when the interpreter is about to exit, regardless of whether the program terminates normally or due to an unhandled exception.\\n\\n\\nimport atexit\\n\\ndef cleanup():\\n    # Cleanup or finalization actions\\n    ...\\n\\natexit.register(cleanup)'"
      ]
     },
     "execution_count": 5,
     "metadata": {},
     "output_type": "execute_result"
    }
   ],
   "source": [
    "# Q5. Identify two methods for specifying actions to be executed at termination time, regardless of\n",
    "# whether or not an exception exists.\n",
    "\n",
    "'''In Python, you can specify actions to be executed at termination time, regardless of whether or not an exception exists, using the following methods:\n",
    "\n",
    "try-finally Blocks:\n",
    "\n",
    "Use a try-finally block to ensure that certain cleanup or finalization actions are executed regardless of whether an exception occurs within the try block. Code within the finally block is guaranteed to be executed before the block is exited, even if an exception occurs.\n",
    "\n",
    "\n",
    "\n",
    "try:\n",
    "    # Code that may raise exceptions\n",
    "    ...\n",
    "finally:\n",
    "    # Cleanup or finalization actions\n",
    "    ...\n",
    "In the example above, the code within the finally block will be executed regardless of whether an exception occurs within the try block. This is useful for releasing resources, closing files, or performing cleanup tasks.\n",
    "\n",
    "atexit Module:\n",
    "\n",
    "Use the atexit module to register functions that should be called when the Python interpreter exits. These functions are executed when the interpreter is about to exit, regardless of whether the program terminates normally or due to an unhandled exception.\n",
    "\n",
    "\n",
    "import atexit\n",
    "\n",
    "def cleanup():\n",
    "    # Cleanup or finalization actions\n",
    "    ...\n",
    "\n",
    "atexit.register(cleanup)'''"
   ]
  },
  {
   "cell_type": "code",
   "execution_count": null,
   "metadata": {},
   "outputs": [],
   "source": []
  }
 ],
 "metadata": {
  "kernelspec": {
   "display_name": "Python 3",
   "language": "python",
   "name": "python3"
  },
  "language_info": {
   "codemirror_mode": {
    "name": "ipython",
    "version": 3
   },
   "file_extension": ".py",
   "mimetype": "text/x-python",
   "name": "python",
   "nbconvert_exporter": "python",
   "pygments_lexer": "ipython3",
   "version": "3.12.3"
  }
 },
 "nbformat": 4,
 "nbformat_minor": 2
}
